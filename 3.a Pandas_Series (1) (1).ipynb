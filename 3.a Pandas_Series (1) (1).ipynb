{
 "cells": [
  {
   "cell_type": "markdown",
   "metadata": {},
   "source": [
    "<h1 style = \"color:Brown\">Data Handling using Pandas</h1>\n",
    "\n",
    "### At the end of this chapter, you will be able to\n",
    "\n",
    "* Create and use various data structures in Pandas\n",
    "\n",
    "\n",
    "* Perform various operations on Pandas data structures\n",
    "\n",
    "\n",
    "* Import/Export data from/to different sources"
   ]
  },
  {
   "cell_type": "markdown",
   "metadata": {},
   "source": [
    "<h2 style = \"color:Purple\">What is Pandas?</h2>"
   ]
  },
  {
   "cell_type": "markdown",
   "metadata": {},
   "source": [
    "* PANDAS - PANel DAta\n",
    "\n",
    "\n",
    "* Built on top of NumPy\n",
    "\n",
    "\n",
    "* Used for data analysis and pre-processing\n",
    "\n",
    "\n",
    "* Two Data Structures\n",
    "    1. Series\n",
    "    2. DataFrame\n",
    "    \n",
    "  \n",
    "* Pandas Data structures can have different data types --> object, int64, float64, bool, datetime64, timedelta[ns], cetegory\n",
    "\n",
    "\n",
    "\n",
    "* Preferred when the data is in tabular format\n",
    "\n",
    "\n",
    "* Supports integration with different types of data sorces such as excel files, csv files, sql tables, json files etc.\n",
    "\n"
   ]
  },
  {
   "cell_type": "markdown",
   "metadata": {},
   "source": [
    "<h2 style = \"color:Purple\">Installation</h2>"
   ]
  },
  {
   "cell_type": "markdown",
   "metadata": {},
   "source": [
    "* Installing Pandas fron PyPI via pip on commannd line\n",
    "<h4 style = \"color:Green\">pip install pandas</h4>    \n",
    "    \n",
    "\n",
    "\n",
    "* Installing Pandas with Anaconda\n",
    "<h4 style = \"color:Green\">conda install pandas</h4>\n",
    "    "
   ]
  },
  {
   "cell_type": "markdown",
   "metadata": {},
   "source": [
    "<h2 style = \"color:Purple\"> Loading Pandas</h2>\n",
    "\n",
    "* Need to import the pandas to load and use it"
   ]
  },
  {
   "cell_type": "code",
   "execution_count": 2,
   "metadata": {},
   "outputs": [],
   "source": [
    "# Import pandas\n",
    "import pandas as pd\n"
   ]
  },
  {
   "cell_type": "markdown",
   "metadata": {},
   "source": [
    "<h2 style = \"color:Purple\">Pandas Data Structures</h2>\n",
    "\n",
    "\n",
    "### 1. Series\n",
    "\n",
    "### 2. DataFrame"
   ]
  },
  {
   "cell_type": "markdown",
   "metadata": {},
   "source": [
    "<h3 style = \"color:Green\">Pandas Series</h3>\n",
    "\n",
    "\n",
    "* One-dimensional array-like object contains a sequence of data values of same type.\n",
    "\n",
    "\n",
    "* Index - Label associated with a value in Series. (Index starts with 0)\n",
    "\n",
    "\n",
    "* Example series: Employees\n",
    "\n",
    "       Index     Value\n",
    "    \n",
    "         0        Ram\n",
    "         1        Sam\n",
    "         2        Raj\n",
    "         3        Rani"
   ]
  },
  {
   "cell_type": "markdown",
   "metadata": {},
   "source": [
    "#### Creation of a Series\n",
    "\n",
    "* pandas.Series(data): Returns a pandas Series object with values specified by given iterable or scalar value."
   ]
  },
  {
   "cell_type": "markdown",
   "metadata": {},
   "source": [
    "#### Pandas Series from a list"
   ]
  },
  {
   "cell_type": "code",
   "execution_count": 3,
   "metadata": {},
   "outputs": [
    {
     "name": "stdout",
     "output_type": "stream",
     "text": [
      "0    10\n",
      "1    20\n",
      "2    30\n",
      "dtype: int64\n",
      "<class 'pandas.core.series.Series'>\n"
     ]
    }
   ],
   "source": [
    "l1=[10,20,30]\n",
    "s1=pd.Series(l1)\n",
    "print(s1)\n",
    "print(type(s1))"
   ]
  },
  {
   "cell_type": "markdown",
   "metadata": {},
   "source": [
    "#### Pandas Series from a Tuple"
   ]
  },
  {
   "cell_type": "code",
   "execution_count": 4,
   "metadata": {},
   "outputs": [
    {
     "name": "stdout",
     "output_type": "stream",
     "text": [
      "0    a\n",
      "1    b\n",
      "2    c\n",
      "dtype: object\n",
      "<class 'pandas.core.series.Series'>\n"
     ]
    }
   ],
   "source": [
    "t1=('a','b','c')\n",
    "s2=pd.Series(t1)\n",
    "print(s2)\n",
    "print(type(s2))"
   ]
  },
  {
   "cell_type": "markdown",
   "metadata": {},
   "source": [
    "#### Pandas Series from a dictionary"
   ]
  },
  {
   "cell_type": "code",
   "execution_count": 5,
   "metadata": {},
   "outputs": [
    {
     "name": "stdout",
     "output_type": "stream",
     "text": [
      "{'name': 'Supriya', 'dept': 'CSE', 'rollno': 581}\n",
      "\n",
      "name      Supriya\n",
      "dept          CSE\n",
      "rollno        581\n",
      "dtype: object\n",
      "\n",
      "<class 'pandas.core.series.Series'>\n"
     ]
    }
   ],
   "source": [
    "d1={'name':'Supriya','dept':'CSE','rollno':581}\n",
    "s3=pd.Series(d1)\n",
    "print(d1)\n",
    "print()\n",
    "print(s3)\n",
    "print()\n",
    "print(type(s3))"
   ]
  },
  {
   "cell_type": "markdown",
   "metadata": {},
   "source": [
    "#### Pandas Series from a ndarray"
   ]
  },
  {
   "cell_type": "code",
   "execution_count": 6,
   "metadata": {},
   "outputs": [
    {
     "name": "stdout",
     "output_type": "stream",
     "text": [
      "<class 'numpy.ndarray'>\n",
      "\n",
      "0    10\n",
      "1    20\n",
      "2    30\n",
      "dtype: int32\n",
      "\n",
      "<class 'pandas.core.series.Series'>\n"
     ]
    }
   ],
   "source": [
    "import numpy as np\n",
    "n1=np.array(l1)\n",
    "print(type(n1))\n",
    "s4=pd.Series(n1)\n",
    "print()\n",
    "print(s4)\n",
    "print()\n",
    "print(type(s4))\n"
   ]
  },
  {
   "cell_type": "markdown",
   "metadata": {},
   "source": [
    "<h2 style = \"color:Purple\">Accessing Series Elements</h2>"
   ]
  },
  {
   "cell_type": "markdown",
   "metadata": {},
   "source": [
    "### 1. Indexing: To access individial elements\n",
    "### 2. Slicing: To access a part of the Series"
   ]
  },
  {
   "cell_type": "markdown",
   "metadata": {},
   "source": [
    "<h3 style = \"color:Green\">1. Indexing</h3>"
   ]
  },
  {
   "cell_type": "markdown",
   "metadata": {},
   "source": [
    "### Two Types of Indexing\n",
    "\n",
    "#### 1. Positional Indexing: Values can be accessed by their position. (Starts from 0)\n",
    "#### 2. Labelled Indexing: Values can be accessed using any user-defined labels."
   ]
  },
  {
   "cell_type": "code",
   "execution_count": 8,
   "metadata": {},
   "outputs": [
    {
     "name": "stdout",
     "output_type": "stream",
     "text": [
      "name      Supriya\n",
      "dept          CSE\n",
      "rollno        581\n",
      "dtype: object\n",
      "\n",
      "Supriya\n"
     ]
    }
   ],
   "source": [
    "# Positional Indexing\n",
    "print(s3)\n",
    "print()\n",
    "print(s3[0])\n"
   ]
  },
  {
   "cell_type": "code",
   "execution_count": 9,
   "metadata": {},
   "outputs": [
    {
     "name": "stdout",
     "output_type": "stream",
     "text": [
      "Supriya\n",
      "\n",
      "581\n"
     ]
    }
   ],
   "source": [
    "# Labelled Indexing (We can assign labels as a list with index attribute)\n",
    "print(s3['name'])\n",
    "print()\n",
    "print(s3['rollno'])\n",
    "\n"
   ]
  },
  {
   "cell_type": "markdown",
   "metadata": {},
   "source": [
    "<h3 style = \"color:Green\">2. Slicing</h3>\n",
    "\n",
    "* Usage: pandas.Series[start_index:end_index:step]\n",
    "\n",
    "\n",
    "* -> Default start_index is 0\n",
    "\n",
    "\n",
    "* -> Default step is 1\n",
    "\n",
    "\n",
    "* -> end_index is excluded"
   ]
  },
  {
   "cell_type": "code",
   "execution_count": 10,
   "metadata": {},
   "outputs": [
    {
     "name": "stdout",
     "output_type": "stream",
     "text": [
      "name    Supriya\n",
      "dept        CSE\n",
      "dtype: object\n"
     ]
    }
   ],
   "source": [
    "print(s3[0:2])"
   ]
  },
  {
   "cell_type": "code",
   "execution_count": 11,
   "metadata": {},
   "outputs": [
    {
     "name": "stdout",
     "output_type": "stream",
     "text": [
      "name      Supriya\n",
      "rollno        581\n",
      "dtype: object\n"
     ]
    }
   ],
   "source": [
    "print(s3[: : 2])"
   ]
  },
  {
   "cell_type": "code",
   "execution_count": 12,
   "metadata": {},
   "outputs": [
    {
     "name": "stdout",
     "output_type": "stream",
     "text": [
      "rollno        581\n",
      "dept          CSE\n",
      "name      Supriya\n",
      "dtype: object\n"
     ]
    }
   ],
   "source": [
    "print(s3[: : -1])"
   ]
  },
  {
   "cell_type": "markdown",
   "metadata": {},
   "source": [
    "<h2 style = \"color:Purple\">Series Attributes</h2>"
   ]
  },
  {
   "cell_type": "markdown",
   "metadata": {},
   "source": [
    "### 1. values: Array of all values in the series\n",
    "### 2. index: Object with all indexes as its values \n",
    "### 3. dtype: Data type of the Series's elements\n",
    "### 4. name: Name of the Series object\n",
    "### 5. size: Number of values in the Series object\n",
    "### 6. empty: True if Series is empty"
   ]
  },
  {
   "cell_type": "code",
   "execution_count": 13,
   "metadata": {},
   "outputs": [
    {
     "name": "stdout",
     "output_type": "stream",
     "text": [
      "name      Supriya\n",
      "dept          CSE\n",
      "rollno        581\n",
      "dtype: object\n"
     ]
    }
   ],
   "source": [
    "print(s3)"
   ]
  },
  {
   "cell_type": "code",
   "execution_count": 14,
   "metadata": {},
   "outputs": [
    {
     "name": "stdout",
     "output_type": "stream",
     "text": [
      "['Supriya' 'CSE' 581]\n"
     ]
    }
   ],
   "source": [
    "print(s3.values)"
   ]
  },
  {
   "cell_type": "code",
   "execution_count": 15,
   "metadata": {},
   "outputs": [
    {
     "name": "stdout",
     "output_type": "stream",
     "text": [
      "Index(['name', 'dept', 'rollno'], dtype='object')\n",
      "object\n"
     ]
    }
   ],
   "source": [
    "print(s3.index)\n",
    "print(s3.dtype)"
   ]
  },
  {
   "cell_type": "code",
   "execution_count": 16,
   "metadata": {},
   "outputs": [
    {
     "name": "stdout",
     "output_type": "stream",
     "text": [
      "None\n",
      "suppi\n"
     ]
    }
   ],
   "source": [
    "print(s3.name)\n",
    "s3.name='suppi'\n",
    "print(s3.name)"
   ]
  },
  {
   "cell_type": "code",
   "execution_count": 17,
   "metadata": {},
   "outputs": [
    {
     "name": "stdout",
     "output_type": "stream",
     "text": [
      "3\n"
     ]
    }
   ],
   "source": [
    "print(s3.size)"
   ]
  },
  {
   "cell_type": "code",
   "execution_count": 18,
   "metadata": {},
   "outputs": [
    {
     "name": "stdout",
     "output_type": "stream",
     "text": [
      "False\n",
      "True\n"
     ]
    },
    {
     "name": "stderr",
     "output_type": "stream",
     "text": [
      "C:\\Users\\Sreekanth\\AppData\\Local\\Temp\\ipykernel_9396\\2972853925.py:2: FutureWarning: The default dtype for empty Series will be 'object' instead of 'float64' in a future version. Specify a dtype explicitly to silence this warning.\n",
      "  se=pd.Series()\n"
     ]
    }
   ],
   "source": [
    "print(s3.empty)\n",
    "se=pd.Series()\n",
    "print(se.empty)"
   ]
  },
  {
   "cell_type": "code",
   "execution_count": 19,
   "metadata": {},
   "outputs": [
    {
     "name": "stdout",
     "output_type": "stream",
     "text": [
      "n    Supriya\n",
      "d        CSE\n",
      "r        581\n",
      "Name: suppi, dtype: object\n"
     ]
    }
   ],
   "source": [
    "s3.index=[\"n\",\"d\",\"r\"]\n",
    "print(s3)\n"
   ]
  },
  {
   "cell_type": "markdown",
   "metadata": {},
   "source": [
    "<h2 style = \"color:Purple\">Series Methods</h2>"
   ]
  },
  {
   "cell_type": "markdown",
   "metadata": {},
   "source": [
    "<h3 style = \"color:Green\">head() and tail() Methods</h3>\n",
    "\n",
    "\n",
    "### Series.head(number_of_elements): Displays specified number of Series elements from the first.\n",
    "\n",
    "\n",
    "\n",
    "### Series.tail(number_of_elements): Displays specified number of Series elements from the last.\n",
    "\n",
    "\n",
    "#### Note: The default number of elements to be displayed is 5"
   ]
  },
  {
   "cell_type": "code",
   "execution_count": 20,
   "metadata": {},
   "outputs": [
    {
     "name": "stdout",
     "output_type": "stream",
     "text": [
      "n    Supriya\n",
      "d        CSE\n",
      "r        581\n",
      "Name: suppi, dtype: object\n"
     ]
    }
   ],
   "source": [
    "print(s3.head())"
   ]
  },
  {
   "cell_type": "code",
   "execution_count": 21,
   "metadata": {},
   "outputs": [
    {
     "name": "stdout",
     "output_type": "stream",
     "text": [
      "n    Supriya\n",
      "Name: suppi, dtype: object\n"
     ]
    }
   ],
   "source": [
    "print(s3.head(1))"
   ]
  },
  {
   "cell_type": "code",
   "execution_count": 22,
   "metadata": {},
   "outputs": [
    {
     "name": "stdout",
     "output_type": "stream",
     "text": [
      "n    Supriya\n",
      "d        CSE\n",
      "r        581\n",
      "Name: suppi, dtype: object\n"
     ]
    }
   ],
   "source": [
    "print(s3.tail())"
   ]
  },
  {
   "cell_type": "code",
   "execution_count": 23,
   "metadata": {},
   "outputs": [
    {
     "name": "stdout",
     "output_type": "stream",
     "text": [
      "d    CSE\n",
      "r    581\n",
      "Name: suppi, dtype: object\n"
     ]
    }
   ],
   "source": [
    "print(s3.tail(2))"
   ]
  },
  {
   "cell_type": "code",
   "execution_count": 25,
   "metadata": {},
   "outputs": [
    {
     "name": "stdout",
     "output_type": "stream",
     "text": [
      "Index(['a', 'b', 'c'], dtype='object')\n",
      "a    Supriya\n",
      "b        CSE\n",
      "c        581\n",
      "Name: suppi, dtype: object\n"
     ]
    }
   ],
   "source": [
    "#to change the indeces\n",
    "s3.index=['a','b','c']\n",
    "print(s3.index)\n",
    "print(s3)\n"
   ]
  }
 ],
 "metadata": {
  "kernelspec": {
   "display_name": "Python 3 (ipykernel)",
   "language": "python",
   "name": "python3"
  },
  "language_info": {
   "codemirror_mode": {
    "name": "ipython",
    "version": 3
   },
   "file_extension": ".py",
   "mimetype": "text/x-python",
   "name": "python",
   "nbconvert_exporter": "python",
   "pygments_lexer": "ipython3",
   "version": "3.11.4"
  }
 },
 "nbformat": 4,
 "nbformat_minor": 4
}
