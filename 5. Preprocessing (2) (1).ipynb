{
 "cells": [
  {
   "cell_type": "markdown",
   "id": "5315b081",
   "metadata": {},
   "source": [
    "<h1 style = \"color:Brown\">Objectives</h1>\n",
    "\n",
    "### 1. Loading data.\n",
    "### 2. Checking for missing values.\n",
    "### 3. Splitting the data in to train set and test set.\n",
    "\n",
    "\n"
   ]
  },
  {
   "cell_type": "markdown",
   "id": "9cfb0ebd",
   "metadata": {},
   "source": [
    "<h2 style = \"color:green\">Loading Data</h2>"
   ]
  },
  {
   "cell_type": "code",
   "execution_count": 2,
   "id": "8d7ddc3a",
   "metadata": {},
   "outputs": [
    {
     "name": "stdout",
     "output_type": "stream",
     "text": [
      "<class 'sklearn.utils._bunch.Bunch'>\n",
      "\n",
      "(150, 4)\n",
      "<class 'numpy.ndarray'>\n",
      "[[5.1 3.5 1.4 0.2]\n",
      " [4.9 3.  1.4 0.2]\n",
      " [4.7 3.2 1.3 0.2]\n",
      " [4.6 3.1 1.5 0.2]\n",
      " [5.  3.6 1.4 0.2]]\n",
      "['sepal length (cm)', 'sepal width (cm)', 'petal length (cm)', 'petal width (cm)']\n",
      "\n",
      "<class 'numpy.ndarray'>\n",
      "[2 2 2 2 2]\n",
      "['setosa' 'versicolor' 'virginica']\n"
     ]
    }
   ],
   "source": [
    "# Load the data from sklearn.datasets - load_iris(), load_diabetes(), load_digits(), load_linnerud(), load_wine(), load_breast_cancer()\n",
    "from sklearn.datasets import load_iris\n",
    "dataset=load_iris()\n",
    "print(type(dataset))\n",
    "print()\n",
    "\n",
    "X=dataset.data\n",
    "print(X.shape)\n",
    "print(type(X))\n",
    "print(X[0:5])\n",
    "print(dataset.feature_names)\n",
    "print()\n",
    "\n",
    "Y=dataset.target\n",
    "print(type(Y))\n",
    "print(Y[145:150])\n",
    "print(dataset.target_names)\n"
   ]
  },
  {
   "cell_type": "code",
   "execution_count": 3,
   "id": "db03a829",
   "metadata": {},
   "outputs": [
    {
     "name": "stdout",
     "output_type": "stream",
     "text": [
      "<class 'numpy.ndarray'>\n",
      "[[5.1 3.5 1.4 0.2]\n",
      " [4.9 3.  1.4 0.2]\n",
      " [4.7 3.2 1.3 0.2]\n",
      " [4.6 3.1 1.5 0.2]\n",
      " [5.  3.6 1.4 0.2]\n",
      " [5.4 3.9 1.7 0.4]]\n",
      "\n",
      "<class 'numpy.ndarray'>\n",
      "[0 0 0 0 0 0]\n"
     ]
    }
   ],
   "source": [
    "#Loading the dataset as separate input and output numpy arrays as ndobjects\n",
    "X,y=load_iris(return_X_y=True)\n",
    "print(type(X))\n",
    "print(X[0:6])\n",
    "print()\n",
    "\n",
    "print(type(y))\n",
    "print(Y[0:6])\n"
   ]
  },
  {
   "cell_type": "code",
   "execution_count": 3,
   "id": "744a3297",
   "metadata": {},
   "outputs": [
    {
     "name": "stdout",
     "output_type": "stream",
     "text": [
      "<class 'pandas.core.frame.DataFrame'>\n",
      "   sepal length (cm)  sepal width (cm)  petal length (cm)  petal width (cm)\n",
      "0                5.1               3.5                1.4               0.2\n",
      "1                4.9               3.0                1.4               0.2\n",
      "2                4.7               3.2                1.3               0.2\n",
      "3                4.6               3.1                1.5               0.2\n",
      "4                5.0               3.6                1.4               0.2\n",
      "5                5.4               3.9                1.7               0.4\n",
      "\n",
      "<class 'pandas.core.series.Series'>\n",
      "0    0\n",
      "1    0\n",
      "2    0\n",
      "3    0\n",
      "4    0\n",
      "5    0\n",
      "Name: target, dtype: int32\n"
     ]
    }
   ],
   "source": [
    "# Parameter as_frame=True returns the data as a dataframe.\n",
    "\n",
    "X,y=load_iris(return_X_y=True,as_frame=True)\n",
    "print(type(X))\n",
    "print(X[0:6])\n",
    "print()\n",
    "\n",
    "print(type(y))\n",
    "print(y[0:6])"
   ]
  },
  {
   "cell_type": "code",
   "execution_count": 1,
   "id": "4e5bebbc",
   "metadata": {},
   "outputs": [
    {
     "name": "stdout",
     "output_type": "stream",
     "text": [
      "(3, 3)\n",
      "Index(['CreditScore', 'Age', 'Exited'], dtype='object')\n",
      "   CreditScore  Age  Exited\n",
      "0            2    3       1\n",
      "1            3    4       0\n",
      "2            5    6       2\n"
     ]
    }
   ],
   "source": [
    "# Load the data from external flat file - use pandas.read_csv() or pandas.read_excel()\n",
    "import pandas as pd\n",
    "df1=pd.read_csv(\"Test.csv\")\n",
    "print(df1.shape)\n",
    "print(df1.columns)\n",
    "print(df1.head(4))\n"
   ]
  },
  {
   "cell_type": "markdown",
   "id": "557cf5e0",
   "metadata": {},
   "source": [
    "<h2 style = \"color:green\">pandas.isna(object)</h2>\n",
    "\n",
    "### Detects missing values.\n",
    "### Returns a boolen object of same size.\n",
    "### None and np.NaN are mapped True values. Everything else gets mapped to False values."
   ]
  },
  {
   "cell_type": "code",
   "execution_count": 4,
   "id": "05bc4c73",
   "metadata": {},
   "outputs": [
    {
     "data": {
      "text/plain": [
       "CreditScore    0\n",
       "Age            0\n",
       "Exited         0\n",
       "dtype: int64"
      ]
     },
     "execution_count": 4,
     "metadata": {},
     "output_type": "execute_result"
    }
   ],
   "source": [
    "df1.isna().sum()"
   ]
  },
  {
   "cell_type": "code",
   "execution_count": 5,
   "id": "feaed93f",
   "metadata": {},
   "outputs": [
    {
     "name": "stdout",
     "output_type": "stream",
     "text": [
      "   CreditScore  Age\n",
      "0            2    3\n",
      "1            3    4\n",
      "2            5    6\n",
      "\n",
      "0    1\n",
      "1    0\n",
      "2    2\n",
      "Name: Exited, dtype: int64\n"
     ]
    }
   ],
   "source": [
    "x=df1.drop('Exited',axis=1)\n",
    "y=df1[\"Exited\"]\n",
    "print(x.head())\n",
    "print()\n",
    "print(y.head())"
   ]
  },
  {
   "cell_type": "code",
   "execution_count": 6,
   "id": "8bf3afd4",
   "metadata": {},
   "outputs": [
    {
     "name": "stdout",
     "output_type": "stream",
     "text": [
      "(2, 2)\n",
      "(2,)\n",
      "(1, 2)\n",
      "(1,)\n"
     ]
    }
   ],
   "source": [
    "# Split the data\n",
    "from sklearn.model_selection import train_test_split\n",
    "x_train, x_test, y_train, y_test = train_test_split(x, y, test_size=0.2)\n",
    "print(x_train.shape)\n",
    "print(y_train.shape)\n",
    "print(x_test.shape)\n",
    "print(y_test.shape)\n",
    "\n"
   ]
  },
  {
   "cell_type": "markdown",
   "id": "c29b3ad9",
   "metadata": {},
   "source": [
    "#### We can use random_state keyword argument to get same set of training and testing samples."
   ]
  },
  {
   "cell_type": "code",
   "execution_count": 8,
   "id": "67b58c1a",
   "metadata": {},
   "outputs": [
    {
     "name": "stdout",
     "output_type": "stream",
     "text": [
      "(2, 2)\n",
      "(2,)\n",
      "(1, 2)\n",
      "(1,)\n"
     ]
    }
   ],
   "source": [
    "x_train, x_test, y_train, y_test = train_test_split(x, y, test_size=0.2,random_state=15)\n",
    "\n",
    "print(x_train.shape)\n",
    "print(y_train.shape)\n",
    "print(x_test.shape)\n",
    "print(y_test.shape)"
   ]
  }
 ],
 "metadata": {
  "kernelspec": {
   "display_name": "Python 3 (ipykernel)",
   "language": "python",
   "name": "python3"
  },
  "language_info": {
   "codemirror_mode": {
    "name": "ipython",
    "version": 3
   },
   "file_extension": ".py",
   "mimetype": "text/x-python",
   "name": "python",
   "nbconvert_exporter": "python",
   "pygments_lexer": "ipython3",
   "version": "3.11.4"
  }
 },
 "nbformat": 4,
 "nbformat_minor": 5
}
