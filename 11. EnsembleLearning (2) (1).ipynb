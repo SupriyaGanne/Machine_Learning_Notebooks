{
 "cells": [
  {
   "cell_type": "markdown",
   "metadata": {},
   "source": [
    "## Step 1: Load the breast_cancer dataset from sklearn.datasets using load_breast_cancer class and split it into traing and testing subsets."
   ]
  },
  {
   "cell_type": "code",
   "execution_count": 5,
   "metadata": {},
   "outputs": [
    {
     "name": "stdout",
     "output_type": "stream",
     "text": [
      "Shape of input data: (569, 30)\n",
      "shape of output data: (569,)\n"
     ]
    }
   ],
   "source": [
    "from sklearn.datasets import load_breast_cancer\n",
    "dataset=load_breast_cancer()\n",
    "X=dataset.data\n",
    "y=dataset.target\n",
    "print(\"Shape of input data:\",X.shape)\n",
    "print(\"shape of output data:\",y.shape)"
   ]
  },
  {
   "cell_type": "code",
   "execution_count": 6,
   "metadata": {},
   "outputs": [
    {
     "name": "stdout",
     "output_type": "stream",
     "text": [
      "Training input data shape: (455, 30)\n",
      "Training output data shape: (455,)\n",
      "Testing input data shape: (114, 30)\n",
      "Testing output data shape: (114,)\n"
     ]
    }
   ],
   "source": [
    "from sklearn.model_selection import train_test_split\n",
    "X_train,X_test,y_train,y_test=train_test_split(X,y,test_size=0.2,random_state=15)\n",
    "print(\"Training input data shape:\",X_train.shape)\n",
    "print(\"Training output data shape:\",y_train.shape)\n",
    "print(\"Testing input data shape:\",X_test.shape)\n",
    "print(\"Testing output data shape:\",y_test.shape)\n"
   ]
  },
  {
   "cell_type": "markdown",
   "metadata": {},
   "source": [
    "## Step 2: Build the Decision Tree, Random Forest and AdaBoost models\n",
    "\n",
    "--> Import DecisionTreeClassifier from sklearn.tree module\n",
    "\n",
    "--> Import RandomForestClassifier and AdaBoostClassifier classes from sklearn.ensemble module.\n",
    "\n",
    "--> We can use n_estimators parameter while creating models to change the default number of 10 weak models."
   ]
  },
  {
   "cell_type": "code",
   "execution_count": 7,
   "metadata": {},
   "outputs": [
    {
     "data": {
      "text/plain": [
       "DecisionTreeClassifier(criterion='entropy')"
      ]
     },
     "execution_count": 7,
     "metadata": {},
     "output_type": "execute_result"
    }
   ],
   "source": [
    "from sklearn.tree import DecisionTreeClassifier\n",
    "from sklearn.ensemble import RandomForestClassifier,AdaBoostClassifier\n",
    "tree=DecisionTreeClassifier(criterion=\"entropy\")\n",
    "tree.fit(X_train,y_train)"
   ]
  },
  {
   "cell_type": "code",
   "execution_count": 8,
   "metadata": {},
   "outputs": [
    {
     "data": {
      "text/plain": [
       "RandomForestClassifier(n_estimators=5)"
      ]
     },
     "execution_count": 8,
     "metadata": {},
     "output_type": "execute_result"
    }
   ],
   "source": [
    "RFmodel=RandomForestClassifier(n_estimators=5)\n",
    "RFmodel.fit(X_train,y_train)"
   ]
  },
  {
   "cell_type": "code",
   "execution_count": 9,
   "metadata": {},
   "outputs": [
    {
     "data": {
      "text/plain": [
       "AdaBoostClassifier(n_estimators=5)"
      ]
     },
     "execution_count": 9,
     "metadata": {},
     "output_type": "execute_result"
    }
   ],
   "source": [
    "Adamodel=AdaBoostClassifier(n_estimators=5)\n",
    "Adamodel.fit(X_train,y_train)"
   ]
  },
  {
   "cell_type": "markdown",
   "metadata": {},
   "source": [
    "## Step 3: Compare the performance of all three models\n",
    "\n",
    "--> Import accuracy_score from sklearn.metrics module.\n",
    "\n",
    "--> Compute both Traing and Test accuracies to observe any overfitting."
   ]
  },
  {
   "cell_type": "code",
   "execution_count": 10,
   "metadata": {},
   "outputs": [
    {
     "name": "stdout",
     "output_type": "stream",
     "text": [
      "Decision Tree Training Accuracy: 1.0\n",
      "Random Forest Training Accuracy: 0.9934065934065934\n",
      "AdaBoost Training Accuracy: 0.9758241758241758\n"
     ]
    }
   ],
   "source": [
    "from sklearn.metrics import accuracy_score\n",
    "print(\"Decision Tree Training Accuracy:\",accuracy_score(y_train,tree.predict(X_train)))\n",
    "print(\"Random Forest Training Accuracy:\",accuracy_score(y_train,RFmodel.predict(X_train)))\n",
    "print(\"AdaBoost Training Accuracy:\",accuracy_score(y_train,Adamodel.predict(X_train)))"
   ]
  },
  {
   "cell_type": "code",
   "execution_count": 11,
   "metadata": {},
   "outputs": [
    {
     "name": "stdout",
     "output_type": "stream",
     "text": [
      "Decision Tree testing Accuracy: 0.8859649122807017\n",
      "Random Forest testing Accuracy: 0.9122807017543859\n",
      "AdaBoost testing Accuracy: 0.9035087719298246\n"
     ]
    }
   ],
   "source": [
    "print(\"Decision Tree testing Accuracy:\",accuracy_score(y_test,tree.predict(X_test)))\n",
    "print(\"Random Forest testing Accuracy:\",accuracy_score(y_test,RFmodel.predict(X_test)))\n",
    "print(\"AdaBoost testing Accuracy:\",accuracy_score(y_test,Adamodel.predict(X_test)))"
   ]
  }
 ],
 "metadata": {
  "kernelspec": {
   "display_name": "Python 3 (ipykernel)",
   "language": "python",
   "name": "python3"
  },
  "language_info": {
   "codemirror_mode": {
    "name": "ipython",
    "version": 3
   },
   "file_extension": ".py",
   "mimetype": "text/x-python",
   "name": "python",
   "nbconvert_exporter": "python",
   "pygments_lexer": "ipython3",
   "version": "3.11.4"
  }
 },
 "nbformat": 4,
 "nbformat_minor": 2
}
