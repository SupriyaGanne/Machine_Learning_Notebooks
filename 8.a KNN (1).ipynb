{
 "cells": [
  {
   "cell_type": "markdown",
   "id": "517447fe",
   "metadata": {},
   "source": [
    "## Step 1: Load breast cancer dataset from sklean and split it as train and test sets."
   ]
  },
  {
   "cell_type": "markdown",
   "id": "aeb9e2ec",
   "metadata": {},
   "source": [
    "### sklearn.datasets.load_breast_cancer()\n",
    "\n",
    "--> Number of classes: 2 ['malignant', 'benign']\n",
    "\n",
    "--> Total samples: 569 ['malignant' 212, 'benign' 357]\n",
    "\n",
    "--> Dimensionality: 30\n",
    "\n",
    "**Returns dictionary-like Bunch object with following attributes**\n",
    "\n",
    "--> data: The ndarray of input data samples with a shape (569, 30)\n",
    "\n",
    "--> target: The ndarray of classification target with a shape (569, )\n",
    "\n",
    "--> feature_names: List of feature names\n",
    "\n",
    "--> target_names: List of target class names\n",
    "\n"
   ]
  },
  {
   "cell_type": "code",
   "execution_count": 1,
   "id": "4dc2327f",
   "metadata": {},
   "outputs": [
    {
     "name": "stdout",
     "output_type": "stream",
     "text": [
      "Input Features : ['mean radius' 'mean texture' 'mean perimeter' 'mean area'\n",
      " 'mean smoothness' 'mean compactness' 'mean concavity'\n",
      " 'mean concave points' 'mean symmetry' 'mean fractal dimension'\n",
      " 'radius error' 'texture error' 'perimeter error' 'area error'\n",
      " 'smoothness error' 'compactness error' 'concavity error'\n",
      " 'concave points error' 'symmetry error' 'fractal dimension error'\n",
      " 'worst radius' 'worst texture' 'worst perimeter' 'worst area'\n",
      " 'worst smoothness' 'worst compactness' 'worst concavity'\n",
      " 'worst concave points' 'worst symmetry' 'worst fractal dimension']\n",
      "Target Features : ['malignant' 'benign']\n",
      "Input data shape: (569, 30)\n",
      "Output data shape: (569,)\n"
     ]
    }
   ],
   "source": [
    "from sklearn.datasets import load_breast_cancer\n",
    "dataset=load_breast_cancer()\n",
    "print(\"Input Features :\",dataset.feature_names)\n",
    "print(\"Target Features :\",dataset.target_names)\n",
    "\n",
    "X=dataset.data\n",
    "y=dataset.target\n",
    "print(\"Input data shape:\",X.shape)\n",
    "print(\"Output data shape:\",y.shape)\n",
    "\n"
   ]
  },
  {
   "cell_type": "code",
   "execution_count": 23,
   "id": "f08b2c71",
   "metadata": {},
   "outputs": [
    {
     "name": "stdout",
     "output_type": "stream",
     "text": [
      "Training Input shape: (455, 30)\n",
      "Training output shape: (455,)\n",
      "Testing Input Shape; (114, 30)\n",
      "testing output shape: (114,)\n"
     ]
    }
   ],
   "source": [
    "from sklearn.model_selection import train_test_split\n",
    "X_train,X_test,y_train,y_test=train_test_split(X,y,test_size=0.2,random_state=15)\n",
    "print(\"Training Input shape:\",X_train.shape)\n",
    "print(\"Training output shape:\",y_train.shape)\n",
    "print(\"Testing Input Shape;\",X_test.shape)\n",
    "print(\"testing output shape:\",y_test.shape)\n"
   ]
  },
  {
   "cell_type": "markdown",
   "id": "d8270068",
   "metadata": {},
   "source": [
    "## Step 2: Build the model\n",
    "\n",
    "### Import KNearestClassifier from sklearn.neighbors\n",
    "--> Object creation: model = KNeighborsClassifier(n_neighbors) "
   ]
  },
  {
   "cell_type": "code",
   "execution_count": 24,
   "id": "25a690b4",
   "metadata": {},
   "outputs": [
    {
     "data": {
      "text/plain": [
       "KNeighborsClassifier(n_neighbors=3)"
      ]
     },
     "execution_count": 24,
     "metadata": {},
     "output_type": "execute_result"
    }
   ],
   "source": [
    "from sklearn.neighbors import KNeighborsClassifier\n",
    "knn3 = KNeighborsClassifier(n_neighbors=3)\n",
    "knn3.fit(X_train,y_train)"
   ]
  },
  {
   "cell_type": "markdown",
   "id": "df0919dc",
   "metadata": {},
   "source": [
    "## Step 3: Test the model\n",
    "### We can import confusion_matrix, accuracy_score, recall_score, precision_score, f1_score functions from sklearn.metrics"
   ]
  },
  {
   "cell_type": "code",
   "execution_count": 25,
   "id": "6747c64f",
   "metadata": {},
   "outputs": [
    {
     "name": "stderr",
     "output_type": "stream",
     "text": [
      "C:\\Users\\HP\\anaconda3\\lib\\site-packages\\sklearn\\neighbors\\_classification.py:228: FutureWarning: Unlike other reduction functions (e.g. `skew`, `kurtosis`), the default behavior of `mode` typically preserves the axis it acts along. In SciPy 1.11.0, this behavior will change: the default value of `keepdims` will become False, the `axis` over which the statistic is taken will be eliminated, and the value None will no longer be accepted. Set `keepdims` to True or False to avoid this warning.\n",
      "  mode, _ = stats.mode(_y[neigh_ind, k], axis=1)\n"
     ]
    }
   ],
   "source": [
    "y_pred=knn3.predict(X_test)"
   ]
  },
  {
   "cell_type": "code",
   "execution_count": 26,
   "id": "f521162d",
   "metadata": {},
   "outputs": [
    {
     "name": "stdout",
     "output_type": "stream",
     "text": [
      "Confusion_matrix:\n",
      " [[32  3]\n",
      " [ 7 72]]\n",
      "Accuracy score: 0.9122807017543859\n",
      "Recall_score: 0.9113924050632911\n",
      "precision_score: 0.96\n",
      "f1_score: 0.935064935064935\n"
     ]
    }
   ],
   "source": [
    "from sklearn.metrics import confusion_matrix,accuracy_score,recall_score,precision_score,f1_score\n",
    "print(\"Confusion_matrix:\\n\",confusion_matrix(y_pred,y_test))\n",
    "print(\"Accuracy score:\",accuracy_score(y_pred,y_test))\n",
    "print(\"Recall_score:\",recall_score(y_pred,y_test))\n",
    "print(\"precision_score:\",precision_score(y_pred,y_test))\n",
    "print(\"f1_score:\",f1_score(y_pred,y_test))"
   ]
  }
 ],
 "metadata": {
  "kernelspec": {
   "display_name": "Python 3 (ipykernel)",
   "language": "python",
   "name": "python3"
  },
  "language_info": {
   "codemirror_mode": {
    "name": "ipython",
    "version": 3
   },
   "file_extension": ".py",
   "mimetype": "text/x-python",
   "name": "python",
   "nbconvert_exporter": "python",
   "pygments_lexer": "ipython3",
   "version": "3.11.4"
  }
 },
 "nbformat": 4,
 "nbformat_minor": 5
}
