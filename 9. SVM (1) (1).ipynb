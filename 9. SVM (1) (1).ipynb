{
 "cells": [
  {
   "cell_type": "markdown",
   "id": "371a7bf9",
   "metadata": {},
   "source": [
    "# Step 1: Import the digits dataset from sklearn and split it into train and test sets."
   ]
  },
  {
   "cell_type": "markdown",
   "id": "2708c658",
   "metadata": {},
   "source": [
    "### Digits dataset in sklearn.datasets:\n",
    "\n",
    "This dataset is made up of 1797 8x8 images. \n",
    "* Number of classes: 10 --> 0, 1, 2, 3, 4, 5, 6, 7, 8, 9\n",
    "* Number of samples: 1797\n",
    "* Number of features: 64\n",
    "* Each sample represents the 64 pixel values of a 8x8 image.\n",
    "* Range of each pixel value is 0 - 16."
   ]
  },
  {
   "cell_type": "code",
   "execution_count": 4,
   "id": "37aeb2d7",
   "metadata": {},
   "outputs": [
    {
     "name": "stdout",
     "output_type": "stream",
     "text": [
      "feature names\n",
      "['pixel_0_0', 'pixel_0_1', 'pixel_0_2', 'pixel_0_3', 'pixel_0_4', 'pixel_0_5', 'pixel_0_6', 'pixel_0_7', 'pixel_1_0', 'pixel_1_1', 'pixel_1_2', 'pixel_1_3', 'pixel_1_4', 'pixel_1_5', 'pixel_1_6', 'pixel_1_7', 'pixel_2_0', 'pixel_2_1', 'pixel_2_2', 'pixel_2_3', 'pixel_2_4', 'pixel_2_5', 'pixel_2_6', 'pixel_2_7', 'pixel_3_0', 'pixel_3_1', 'pixel_3_2', 'pixel_3_3', 'pixel_3_4', 'pixel_3_5', 'pixel_3_6', 'pixel_3_7', 'pixel_4_0', 'pixel_4_1', 'pixel_4_2', 'pixel_4_3', 'pixel_4_4', 'pixel_4_5', 'pixel_4_6', 'pixel_4_7', 'pixel_5_0', 'pixel_5_1', 'pixel_5_2', 'pixel_5_3', 'pixel_5_4', 'pixel_5_5', 'pixel_5_6', 'pixel_5_7', 'pixel_6_0', 'pixel_6_1', 'pixel_6_2', 'pixel_6_3', 'pixel_6_4', 'pixel_6_5', 'pixel_6_6', 'pixel_6_7', 'pixel_7_0', 'pixel_7_1', 'pixel_7_2', 'pixel_7_3', 'pixel_7_4', 'pixel_7_5', 'pixel_7_6', 'pixel_7_7']\n",
      "target names\n",
      "[0 1 2 3 4 5 6 7 8 9]\n"
     ]
    }
   ],
   "source": [
    "from sklearn.datasets import load_digits\n",
    "dataset=load_digits()\n",
    "print(\"feature names\")\n",
    "print(dataset.feature_names)\n",
    "print(\"target names\")\n",
    "print(dataset.target_names)\n"
   ]
  },
  {
   "cell_type": "code",
   "execution_count": 5,
   "id": "233651f8",
   "metadata": {},
   "outputs": [
    {
     "name": "stdout",
     "output_type": "stream",
     "text": [
      "Input data shape: (1797, 64)\n",
      "Input Target shape: (1797,)\n"
     ]
    }
   ],
   "source": [
    "X=dataset.data\n",
    "y=dataset.target\n",
    "print(\"Input data shape:\",X.shape)\n",
    "print(\"Input Target shape:\",y.shape)"
   ]
  },
  {
   "cell_type": "code",
   "execution_count": 6,
   "id": "4eff7d1d",
   "metadata": {},
   "outputs": [
    {
     "name": "stdout",
     "output_type": "stream",
     "text": [
      "[[  0   0   0   0]\n",
      " [255 255 255 255]\n",
      " [  0   0   0   0]]\n"
     ]
    },
    {
     "data": {
      "text/plain": [
       "<matplotlib.image.AxesImage at 0x18839461250>"
      ]
     },
     "execution_count": 6,
     "metadata": {},
     "output_type": "execute_result"
    },
    {
     "data": {
      "image/png": "[encoded data removed]",
      "text/plain": [
       "<Figure size 640x480 with 1 Axes>"
      ]
     },
     "metadata": {},
     "output_type": "display_data"
    }
   ],
   "source": [
    "import numpy as np\n",
    "import matplotlib.pyplot as plt\n",
    "img=np.array([[0,0 ,0 ,0],[255, 255 ,255 ,255],[0, 0, 0, 0]])\n",
    "print(img)\n",
    "plt.imshow(img,cmap=\"gray\")\n"
   ]
  },
  {
   "cell_type": "code",
   "execution_count": 7,
   "id": "257b82db",
   "metadata": {},
   "outputs": [
    {
     "name": "stdout",
     "output_type": "stream",
     "text": [
      "0\n"
     ]
    },
    {
     "data": {
      "image/png": "[encoded data removed]",
      "text/plain": [
       "<Figure size 640x480 with 1 Axes>"
      ]
     },
     "metadata": {},
     "output_type": "display_data"
    }
   ],
   "source": [
    "import matplotlib.pyplot as plt\n",
    "\n",
    "img1=X[0].reshape((8,8))\n",
    "plt.imshow(img1, cmap=\"gray\")\n",
    "print(y[0])\n"
   ]
  },
  {
   "cell_type": "code",
   "execution_count": 8,
   "id": "a2147270",
   "metadata": {},
   "outputs": [
    {
     "name": "stdout",
     "output_type": "stream",
     "text": [
      "Training Input shape: (1437, 64)\n",
      "Training output shape: (1437,)\n",
      "Testing Input Shape; (360, 64)\n",
      "testing output shape: (360,)\n"
     ]
    }
   ],
   "source": [
    "from sklearn.model_selection import train_test_split\n",
    "X_train,X_test,y_train,y_test=train_test_split(X,y,random_state=15,test_size=0.2)\n",
    "print(\"Training Input shape:\",X_train.shape)\n",
    "print(\"Training output shape:\",y_train.shape)\n",
    "print(\"Testing Input Shape;\",X_test.shape)\n",
    "print(\"testing output shape:\",y_test.shape)"
   ]
  },
  {
   "cell_type": "markdown",
   "id": "80770fcd",
   "metadata": {},
   "source": [
    "## Step 2: Build the model"
   ]
  },
  {
   "cell_type": "markdown",
   "id": "93e5ba06",
   "metadata": {},
   "source": [
    "* Import the class SVC from sklearn.svm module\n",
    "* Create a model objet using SVC class\n",
    "* Use fit method to train the model with training dataset."
   ]
  },
  {
   "cell_type": "code",
   "execution_count": 9,
   "id": "0895ff15",
   "metadata": {},
   "outputs": [
    {
     "data": {
      "text/html": [
       "<style>#sk-container-id-1 {color: black;}#sk-container-id-1 pre{padding: 0;}#sk-container-id-1 div.sk-toggleable {background-color: white;}#sk-container-id-1 label.sk-toggleable__label {cursor: pointer;display: block;width: 100%;margin-bottom: 0;padding: 0.3em;box-sizing: border-box;text-align: center;}#sk-container-id-1 label.sk-toggleable__label-arrow:before {content: \"▸\";float: left;margin-right: 0.25em;color: #696969;}#sk-container-id-1 label.sk-toggleable__label-arrow:hover:before {color: black;}#sk-container-id-1 div.sk-estimator:hover label.sk-toggleable__label-arrow:before {color: black;}#sk-container-id-1 div.sk-toggleable__content {max-height: 0;max-width: 0;overflow: hidden;text-align: left;background-color: #f0f8ff;}#sk-container-id-1 div.sk-toggleable__content pre {margin: 0.2em;color: black;border-radius: 0.25em;background-color: #f0f8ff;}#sk-container-id-1 input.sk-toggleable__control:checked~div.sk-toggleable__content {max-height: 200px;max-width: 100%;overflow: auto;}#sk-container-id-1 input.sk-toggleable__control:checked~label.sk-toggleable__label-arrow:before {content: \"▾\";}#sk-container-id-1 div.sk-estimator input.sk-toggleable__control:checked~label.sk-toggleable__label {background-color: #d4ebff;}#sk-container-id-1 div.sk-label input.sk-toggleable__control:checked~label.sk-toggleable__label {background-color: #d4ebff;}#sk-container-id-1 input.sk-hidden--visually {border: 0;clip: rect(1px 1px 1px 1px);clip: rect(1px, 1px, 1px, 1px);height: 1px;margin: -1px;overflow: hidden;padding: 0;position: absolute;width: 1px;}#sk-container-id-1 div.sk-estimator {font-family: monospace;background-color: #f0f8ff;border: 1px dotted black;border-radius: 0.25em;box-sizing: border-box;margin-bottom: 0.5em;}#sk-container-id-1 div.sk-estimator:hover {background-color: #d4ebff;}#sk-container-id-1 div.sk-parallel-item::after {content: \"\";width: 100%;border-bottom: 1px solid gray;flex-grow: 1;}#sk-container-id-1 div.sk-label:hover label.sk-toggleable__label {background-color: #d4ebff;}#sk-container-id-1 div.sk-serial::before {content: \"\";position: absolute;border-left: 1px solid gray;box-sizing: border-box;top: 0;bottom: 0;left: 50%;z-index: 0;}#sk-container-id-1 div.sk-serial {display: flex;flex-direction: column;align-items: center;background-color: white;padding-right: 0.2em;padding-left: 0.2em;position: relative;}#sk-container-id-1 div.sk-item {position: relative;z-index: 1;}#sk-container-id-1 div.sk-parallel {display: flex;align-items: stretch;justify-content: center;background-color: white;position: relative;}#sk-container-id-1 div.sk-item::before, #sk-container-id-1 div.sk-parallel-item::before {content: \"\";position: absolute;border-left: 1px solid gray;box-sizing: border-box;top: 0;bottom: 0;left: 50%;z-index: -1;}#sk-container-id-1 div.sk-parallel-item {display: flex;flex-direction: column;z-index: 1;position: relative;background-color: white;}#sk-container-id-1 div.sk-parallel-item:first-child::after {align-self: flex-end;width: 50%;}#sk-container-id-1 div.sk-parallel-item:last-child::after {align-self: flex-start;width: 50%;}#sk-container-id-1 div.sk-parallel-item:only-child::after {width: 0;}#sk-container-id-1 div.sk-dashed-wrapped {border: 1px dashed gray;margin: 0 0.4em 0.5em 0.4em;box-sizing: border-box;padding-bottom: 0.4em;background-color: white;}#sk-container-id-1 div.sk-label label {font-family: monospace;font-weight: bold;display: inline-block;line-height: 1.2em;}#sk-container-id-1 div.sk-label-container {text-align: center;}#sk-container-id-1 div.sk-container {/* jupyter's `normalize.less` sets `[hidden] { display: none; }` but bootstrap.min.css set `[hidden] { display: none !important; }` so we also need the `!important` here to be able to override the default hidden behavior on the sphinx rendered scikit-learn.org. See: https://github.com/scikit-learn/scikit-learn/issues/21755 */display: inline-block !important;position: relative;}#sk-container-id-1 div.sk-text-repr-fallback {display: none;}</style><div id=\"sk-container-id-1\" class=\"sk-top-container\"><div class=\"sk-text-repr-fallback\"><pre>SVC()</pre><b>In a Jupyter environment, please rerun this cell to show the HTML representation or trust the notebook. <br />On GitHub, the HTML representation is unable to render, please try loading this page with nbviewer.org.</b></div><div class=\"sk-container\" hidden><div class=\"sk-item\"><div class=\"sk-estimator sk-toggleable\"><input class=\"sk-toggleable__control sk-hidden--visually\" id=\"sk-estimator-id-1\" type=\"checkbox\" checked><label for=\"sk-estimator-id-1\" class=\"sk-toggleable__label sk-toggleable__label-arrow\">SVC</label><div class=\"sk-toggleable__content\"><pre>SVC()</pre></div></div></div></div></div>"
      ],
      "text/plain": [
       "SVC()"
      ]
     },
     "execution_count": 9,
     "metadata": {},
     "output_type": "execute_result"
    }
   ],
   "source": [
    "from sklearn.svm import SVC\n",
    "svm1=SVC()\n",
    "svm1.fit(X_train,y_train)"
   ]
  },
  {
   "cell_type": "markdown",
   "id": "90d66bf6",
   "metadata": {},
   "source": [
    "## Step 3: Test and Evaluate the model."
   ]
  },
  {
   "cell_type": "code",
   "execution_count": 10,
   "id": "4355aaa5",
   "metadata": {},
   "outputs": [],
   "source": [
    "y_pred=svm1.predict(X_test)"
   ]
  },
  {
   "cell_type": "code",
   "execution_count": 11,
   "id": "1eae0b74",
   "metadata": {},
   "outputs": [
    {
     "name": "stdout",
     "output_type": "stream",
     "text": [
      "Confusion_matrix:\n",
      " [[30  0  0  0  0  0  0  0  0  0]\n",
      " [ 0 38  0  0  0  0  0  0  2  0]\n",
      " [ 0  0 38  0  0  0  0  0  0  0]\n",
      " [ 0  0  0 26  0  0  0  0  0  1]\n",
      " [ 1  0  0  0 40  0  0  0  0  0]\n",
      " [ 0  0  0  0  0 35  0  0  0  0]\n",
      " [ 0  0  0  0  0  0 38  0  0  0]\n",
      " [ 0  0  0  0  0  0  0 34  0  0]\n",
      " [ 0  0  0  1  0  0  0  0 33  0]\n",
      " [ 0  0  0  0  1  0  0  0  0 42]]\n",
      "\n",
      "Accuracy score: 0.9833333333333333\n"
     ]
    }
   ],
   "source": [
    "from sklearn.metrics import confusion_matrix,accuracy_score,recall_score,precision_score,f1_score\n",
    "y_pred=svm1.predict(X_test)\n",
    "print(\"Confusion_matrix:\\n\",confusion_matrix(y_pred,y_test))\n",
    "print()\n",
    "print(\"Accuracy score:\",accuracy_score(y_pred,y_test))\n"
   ]
  },
  {
   "cell_type": "markdown",
   "id": "f822d088",
   "metadata": {},
   "source": [
    "* Use predict method to predict the class for unseen data samples.\n",
    "* Import accuracy_score function from sklearn.metrics module for evaluation"
   ]
  },
  {
   "cell_type": "markdown",
   "id": "86fb0643",
   "metadata": {},
   "source": [
    "## Step 4: Evaluate the model with different kernels"
   ]
  },
  {
   "cell_type": "markdown",
   "id": "2d056d22",
   "metadata": {},
   "source": [
    "* SVC class takes a parameter kernel which can take one of linear / poly / rbf / sigmoid.\n",
    "* rbf (Radial Basis Function) is the default value."
   ]
  },
  {
   "cell_type": "code",
   "execution_count": 12,
   "id": "5ea3b2de",
   "metadata": {},
   "outputs": [
    {
     "name": "stdout",
     "output_type": "stream",
     "text": [
      "Confusion_matrix:\n",
      " [[31  0  0  0  0  0  0  0  0  0]\n",
      " [ 0 38  0  0  0  0  1  0  0  0]\n",
      " [ 0  0 38  0  0  0  0  0  0  0]\n",
      " [ 0  0  0 26  0  0  0  0  0  0]\n",
      " [ 0  0  0  0 41  0  0  0  0  0]\n",
      " [ 0  0  0  0  0 35  0  1  0  0]\n",
      " [ 0  0  0  0  0  0 37  0  1  0]\n",
      " [ 0  0  0  0  0  0  0 33  0  0]\n",
      " [ 0  0  0  1  0  0  0  0 34  1]\n",
      " [ 0  0  0  0  0  0  0  0  0 42]]\n",
      "\n",
      "Accuracy score: 0.9861111111111112\n"
     ]
    }
   ],
   "source": [
    "svm2=SVC(kernel=\"linear\")\n",
    "svm2.fit(X_train,y_train)\n",
    "y_pred=svm2.predict(X_test)\n",
    "print(\"Confusion_matrix:\\n\",confusion_matrix(y_pred,y_test))\n",
    "print()\n",
    "print(\"Accuracy score:\",accuracy_score(y_pred,y_test))\n",
    "\n"
   ]
  },
  {
   "cell_type": "code",
   "execution_count": 13,
   "id": "eddcbeee",
   "metadata": {},
   "outputs": [
    {
     "name": "stdout",
     "output_type": "stream",
     "text": [
      "Accuracy score: 0.9888888888888889\n"
     ]
    }
   ],
   "source": [
    "svm3=SVC(kernel=\"poly\")\n",
    "svm3.fit(X_train,y_train)\n",
    "y_pred=svm3.predict(X_test)\n",
    "print(\"Accuracy score:\",accuracy_score(y_pred,y_test))\n"
   ]
  },
  {
   "cell_type": "code",
   "execution_count": 14,
   "id": "b5c934bf",
   "metadata": {},
   "outputs": [
    {
     "name": "stdout",
     "output_type": "stream",
     "text": [
      "Accuracy score: 0.9138888888888889\n"
     ]
    }
   ],
   "source": [
    "svm4=SVC(kernel=\"sigmoid\")\n",
    "svm4.fit(X_train,y_train)\n",
    "y_pred=svm4.predict(X_test)\n",
    "print(\"Accuracy score:\",accuracy_score(y_pred,y_test))\n"
   ]
  }
 ],
 "metadata": {
  "kernelspec": {
   "display_name": "Python 3 (ipykernel)",
   "language": "python",
   "name": "python3"
  },
  "language_info": {
   "codemirror_mode": {
    "name": "ipython",
    "version": 3
   },
   "file_extension": ".py",
   "mimetype": "text/x-python",
   "name": "python",
   "nbconvert_exporter": "python",
   "pygments_lexer": "ipython3",
   "version": "3.11.4"
  }
 },
 "nbformat": 4,
 "nbformat_minor": 5
}
