{
 "cells": [
  {
   "cell_type": "markdown",
   "id": "36f67e9c",
   "metadata": {},
   "source": [
    "## Step 1: Import the iris dataset using load_iris class from sklearn.datasets and split it into training and testing subsets"
   ]
  },
  {
   "cell_type": "code",
   "execution_count": 9,
   "id": "581c6a19",
   "metadata": {},
   "outputs": [
    {
     "name": "stdout",
     "output_type": "stream",
     "text": [
      "Shape of input data: (150, 4)\n",
      "shape of output data: (150,)\n"
     ]
    }
   ],
   "source": [
    "from sklearn.datasets import load_iris\n",
    "dataset=load_iris()\n",
    "X=dataset.data\n",
    "y=dataset.target\n",
    "print(\"Shape of input data:\",X.shape)\n",
    "print(\"shape of output data:\",y.shape)"
   ]
  },
  {
   "cell_type": "code",
   "execution_count": 10,
   "id": "2defc1f7",
   "metadata": {},
   "outputs": [
    {
     "name": "stdout",
     "output_type": "stream",
     "text": [
      "Training input data shape: (127, 4)\n",
      "Training output data shape: (127,)\n",
      "Testing input data shape: (23, 4)\n",
      "Testing output data shape: (23,)\n"
     ]
    }
   ],
   "source": [
    "from sklearn.model_selection import train_test_split\n",
    "X_train,X_test,y_train,y_test=train_test_split(X,y,test_size=0.15,random_state=15)\n",
    "print(\"Training input data shape:\",X_train.shape)\n",
    "print(\"Training output data shape:\",y_train.shape)\n",
    "print(\"Testing input data shape:\",X_test.shape)\n",
    "print(\"Testing output data shape:\",y_test.shape)"
   ]
  },
  {
   "cell_type": "markdown",
   "id": "adeed571",
   "metadata": {},
   "source": [
    "## Step 2: Build the MLP Model\n",
    "\n",
    "--> Import MLPClassifier from sklearn.neural_network module\n",
    "\n",
    "--> Multilayer Perceptron Classifier\n",
    "\n",
    "--> Some Hyper Parameters:\n",
    "\n",
    "    * max_iter - Maximum number of iterations. Default is 200.\n",
    "    \n",
    "    * hidden_layer_sizes - Determines the number of hidden layers and number of neurons in each layer. Default is (100, ) i.e., 1 hidden layer with 100 neurons.\n",
    "    \n",
    "    * activation - Activation function for the hidden layers {'identity', 'logistic', 'tanh', 'relu'}. Default is 'relu'.\n",
    "    \n",
    "    * solver - The solver for weight optimization {'lbfgs', 'sgd', 'adam'}. Default is 'adam'.\n",
    "    \n",
    "    * batch_size - Size of minibatches for stochostic optimizers.\n",
    "    \n",
    "    * learning_rate - Learning rate schedule for weight update {'constant', 'invscaling', 'adaptive}. Default is 'constant'.\n",
    "    \n",
    "    * learning_rate_init - The initial learning rate. Default is 0.001.\n",
    "    \n",
    "    * momentum - Momentum for gradient decent update {0 - 1}. Defult is 0.9.\n",
    "    \n",
    "--> fit(x_train, y_train) method can be used to build the model.\n"
   ]
  },
  {
   "cell_type": "code",
   "execution_count": 11,
   "id": "d37d7eaf",
   "metadata": {},
   "outputs": [],
   "source": [
    "from sklearn.neural_network import MLPClassifier"
   ]
  },
  {
   "cell_type": "code",
   "execution_count": 12,
   "id": "fe5998e4",
   "metadata": {},
   "outputs": [
    {
     "name": "stderr",
     "output_type": "stream",
     "text": [
      "C:\\Users\\HP\\anaconda3\\lib\\site-packages\\sklearn\\neural_network\\_multilayer_perceptron.py:692: ConvergenceWarning: Stochastic Optimizer: Maximum iterations (100) reached and the optimization hasn't converged yet.\n",
      "  warnings.warn(\n"
     ]
    },
    {
     "data": {
      "text/plain": [
       "MLPClassifier(max_iter=100)"
      ]
     },
     "execution_count": 12,
     "metadata": {},
     "output_type": "execute_result"
    }
   ],
   "source": [
    "# MLP with 100 iterations and one hidden layer with 100 default nodes.\n",
    "model1=MLPClassifier(max_iter=100,hidden_layer_sizes=(100,))\n",
    "model1.fit(X_train,y_train)\n"
   ]
  },
  {
   "cell_type": "markdown",
   "id": "3d2eb8cf",
   "metadata": {},
   "source": [
    "## Step 3: Evaluate the model performance\n",
    "\n",
    "--> Import accuracy_score function from sklearn.metrics\n",
    "\n",
    "--> Check for any overfitting"
   ]
  },
  {
   "cell_type": "code",
   "execution_count": 13,
   "id": "93be2c18",
   "metadata": {},
   "outputs": [
    {
     "name": "stdout",
     "output_type": "stream",
     "text": [
      "Training Accuracy: 0.8582677165354331\n",
      "Testing Accuracy: 0.8695652173913043\n"
     ]
    }
   ],
   "source": [
    "from sklearn.metrics import accuracy_score\n",
    "print(\"Training Accuracy:\",accuracy_score(y_train,model1.predict(X_train)))\n",
    "print(\"Testing Accuracy:\",accuracy_score(y_test,model1.predict(X_test)))"
   ]
  },
  {
   "cell_type": "markdown",
   "id": "9f7ca313",
   "metadata": {},
   "source": [
    "## Step 4: Fine tune the model performance by  channging hyper parammeter values\n",
    "\n",
    "--> Check for any overfitting"
   ]
  },
  {
   "cell_type": "code",
   "execution_count": 14,
   "id": "a7dc2de0",
   "metadata": {},
   "outputs": [
    {
     "name": "stdout",
     "output_type": "stream",
     "text": [
      "Training Accuracy: 0.952755905511811\n",
      "Testing Accuracy: 1.0\n"
     ]
    },
    {
     "name": "stderr",
     "output_type": "stream",
     "text": [
      "C:\\Users\\HP\\anaconda3\\lib\\site-packages\\sklearn\\neural_network\\_multilayer_perceptron.py:692: ConvergenceWarning: Stochastic Optimizer: Maximum iterations (100) reached and the optimization hasn't converged yet.\n",
      "  warnings.warn(\n"
     ]
    }
   ],
   "source": [
    "# MLP with 100 iterations and two hidden layers with 100 and 20 nodes respectively.\n",
    "model2=MLPClassifier(max_iter=100,hidden_layer_sizes=(100,20))\n",
    "model2.fit(X_train,y_train)\n",
    "print(\"Training Accuracy:\",accuracy_score(y_train,model2.predict(X_train)))\n",
    "print(\"Testing Accuracy:\",accuracy_score(y_test,model2.predict(X_test)))\n"
   ]
  },
  {
   "cell_type": "code",
   "execution_count": 8,
   "id": "8dae23e0",
   "metadata": {},
   "outputs": [
    {
     "name": "stdout",
     "output_type": "stream",
     "text": [
      "Training Accuracy: 0.9763779527559056\n",
      "Testing Accuracy: 1.0\n"
     ]
    },
    {
     "name": "stderr",
     "output_type": "stream",
     "text": [
      "C:\\Users\\HP\\anaconda3\\lib\\site-packages\\sklearn\\neural_network\\_multilayer_perceptron.py:692: ConvergenceWarning: Stochastic Optimizer: Maximum iterations (100) reached and the optimization hasn't converged yet.\n",
      "  warnings.warn(\n"
     ]
    }
   ],
   "source": [
    "# MLP with 100 iterations, two hidden layers with 100 and 20 nodes respectively and tanh activation function.\n",
    "model3=MLPClassifier(max_iter=100,hidden_layer_sizes=(100,20),activation=\"tanh\")\n",
    "model3.fit(X_train,y_train)\n",
    "print(\"Training Accuracy:\",accuracy_score(y_train,model3.predict(X_train)))\n",
    "print(\"Testing Accuracy:\",accuracy_score(y_test,model3.predict(X_test)))\n"
   ]
  }
 ],
 "metadata": {
  "kernelspec": {
   "display_name": "Python 3 (ipykernel)",
   "language": "python",
   "name": "python3"
  },
  "language_info": {
   "codemirror_mode": {
    "name": "ipython",
    "version": 3
   },
   "file_extension": ".py",
   "mimetype": "text/x-python",
   "name": "python",
   "nbconvert_exporter": "python",
   "pygments_lexer": "ipython3",
   "version": "3.11.4"
  }
 },
 "nbformat": 4,
 "nbformat_minor": 5
}
