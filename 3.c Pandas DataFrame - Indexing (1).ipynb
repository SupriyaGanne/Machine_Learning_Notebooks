{
 "cells": [
  {
   "cell_type": "markdown",
   "metadata": {},
   "source": [
    "<h2 style = \"color:Green\">Indexing</h2>\n",
    "\n",
    "* To access a row or column of the DataFrame\n",
    "\n",
    "\n",
    "* Types\n",
    "    1. Label Based Indexing\n",
    "    2. Location(Position) Based Indexing\n",
    "    \n",
    "     Note that all Indexing operations returns selected row or column as a Series."
   ]
  },
  {
   "cell_type": "markdown",
   "metadata": {},
   "source": [
    "<h3 style = \"color:Blue\">1. Label Based Indexing</h3>\n",
    "\n",
    "* Differenet Label Based Indexing Operations\n",
    "\n",
    "    1. Select a row by label: **Series = DataFrame.loc[row_label]**\n",
    "    \n",
    "    2. Select a column by label\n",
    "    \n",
    "        a) Select a column by label: **Series = DataFrame[col_label]**        \n",
    "        b) Select a column by label with loc method: **Series = DataFrame.loc[: , col_label]**"
   ]
  },
  {
   "cell_type": "code",
   "execution_count": 1,
   "metadata": {},
   "outputs": [],
   "source": [
    "# Import pandas\n",
    "import pandas "
   ]
  },
  {
   "cell_type": "code",
   "execution_count": 3,
   "metadata": {},
   "outputs": [
    {
     "name": "stdout",
     "output_type": "stream",
     "text": [
      "       Name  Age  Percentage\n",
      "R1  blakely   45        55.5\n",
      "R2     john   67        65.6\n",
      "R3    haley   34        75.5\n",
      "R4   carrie   32        85.5\n",
      "R5     alex   44        95.5\n",
      "R6    manny   33        96.6\n"
     ]
    }
   ],
   "source": [
    "# Create a dataFrame from a dictionary of lists with some row labels (We can use dataframe's index argument to set labels)\n",
    "import pandas as pd\n",
    "\n",
    "# Create a DataFrame from a dictionary of lists with some row labels\n",
    "df = {'Name':['blakely','john','haley','carrie','alex','manny'],\n",
    "                    'Age':[45,67,34,32,44,33],\n",
    "                    'Percentage':[55.5,65.6,75.5,85.5,95.5,96.6]}\n",
    "df1=pd.DataFrame(df,index=[\"R1\",\"R2\",\"R3\",\"R4\",\"R5\",\"R6\"])\n",
    "\n",
    "# Print the DataFrame\n",
    "print(df1)"
   ]
  },
  {
   "cell_type": "code",
   "execution_count": 5,
   "metadata": {},
   "outputs": [
    {
     "name": "stdout",
     "output_type": "stream",
     "text": [
      "Name          blakely\n",
      "Age                45\n",
      "Percentage       55.5\n",
      "Name: R1, dtype: object\n",
      "\n",
      "Name          john\n",
      "Age             67\n",
      "Percentage    65.6\n",
      "Name: R2, dtype: object\n",
      "\n",
      "Name          haley\n",
      "Age              34\n",
      "Percentage     75.5\n",
      "Name: R3, dtype: object\n",
      "\n",
      "Name          carrie\n",
      "Age               32\n",
      "Percentage      85.5\n",
      "Name: R4, dtype: object\n",
      "\n",
      "Name          alex\n",
      "Age             44\n",
      "Percentage    95.5\n",
      "Name: R5, dtype: object\n",
      "\n",
      "Name          manny\n",
      "Age              33\n",
      "Percentage     96.6\n",
      "Name: R6, dtype: object\n",
      "\n"
     ]
    }
   ],
   "source": [
    "# Select a row by label\n",
    "r1=df1.loc[\"R1\"]\n",
    "print(r1)\n",
    "print()\n",
    "r2=df1.loc[\"R2\"]\n",
    "print(r2)\n",
    "print()\n",
    "r3=df1.loc[\"R3\"]\n",
    "print(r3)\n",
    "print()\n",
    "r4=df1.loc[\"R4\"]\n",
    "print(r4)\n",
    "print()\n",
    "r5=df1.loc[\"R5\"]\n",
    "print(r5)\n",
    "print()\n",
    "r6=df1.loc[\"R6\"]\n",
    "print(r6)\n",
    "print()\n",
    "\n",
    "\n"
   ]
  },
  {
   "cell_type": "code",
   "execution_count": 9,
   "metadata": {},
   "outputs": [
    {
     "name": "stdout",
     "output_type": "stream",
     "text": [
      "R1    blakely\n",
      "R2       john\n",
      "R3      haley\n",
      "R4     carrie\n",
      "R5       alex\n",
      "R6      manny\n",
      "Name: Name, dtype: object\n",
      "\n",
      "R1    45\n",
      "R2    67\n",
      "R3    34\n",
      "R4    32\n",
      "R5    44\n",
      "R6    33\n",
      "Name: Age, dtype: int64\n",
      "\n"
     ]
    }
   ],
   "source": [
    "# Select a column by a label\n",
    "c1=df1[\"Name\"]\n",
    "print(c1)\n",
    "print()\n",
    "c2=df1.Age\n",
    "print(c2)\n",
    "print()\n",
    "\n"
   ]
  },
  {
   "cell_type": "code",
   "execution_count": 10,
   "metadata": {},
   "outputs": [
    {
     "name": "stdout",
     "output_type": "stream",
     "text": [
      "R1    55.5\n",
      "R2    65.6\n",
      "R3    75.5\n",
      "R4    85.5\n",
      "R5    95.5\n",
      "R6    96.6\n",
      "Name: Percentage, dtype: float64\n"
     ]
    }
   ],
   "source": [
    "# Selecting a column by label with loc mehod\n",
    "c3=df1.loc[:,\"Percentage\"]\n",
    "print(c3)\n",
    "\n"
   ]
  },
  {
   "cell_type": "code",
   "execution_count": 12,
   "metadata": {},
   "outputs": [
    {
     "name": "stdout",
     "output_type": "stream",
     "text": [
      "       Name  Age\n",
      "R1  blakely   45\n",
      "R2     john   67\n",
      "R3    haley   34\n",
      "R4   carrie   32\n",
      "R5     alex   44\n",
      "R6    manny   33\n"
     ]
    }
   ],
   "source": [
    "# Select multiple columns as a new dataframe\n",
    "df2=df1[[\"Name\",\"Age\"]]\n",
    "print(df2)\n"
   ]
  },
  {
   "cell_type": "code",
   "execution_count": 14,
   "metadata": {},
   "outputs": [
    {
     "name": "stdout",
     "output_type": "stream",
     "text": [
      "      Name  Age  Percentage\n",
      "R4  carrie   32        85.5\n",
      "R5    alex   44        95.5\n",
      "R6   manny   33        96.6\n"
     ]
    }
   ],
   "source": [
    "# Select the rows where percentage is greater then 80\n",
    "df3=df1[df1[\"Percentage\"]>80]\n",
    "print(df3)\n"
   ]
  },
  {
   "cell_type": "markdown",
   "metadata": {},
   "source": [
    "<h3 style = \"color:Blue\">2. Location(Position) Based Indexing</h3>\n",
    "\n",
    "* Location Based Indexing Operations\n",
    "\n",
    "    1. Select a row by integer location: **Series = DataFrame.iloc[row_location]**\n",
    "    2. Select a column by integer location **Series = DataFrame.iloc[: , col_location]**"
   ]
  },
  {
   "cell_type": "code",
   "execution_count": 16,
   "metadata": {},
   "outputs": [
    {
     "name": "stdout",
     "output_type": "stream",
     "text": [
      "Name          carrie\n",
      "Age               32\n",
      "Percentage      85.5\n",
      "Name: R4, dtype: object\n"
     ]
    }
   ],
   "source": [
    "# Select a row by position(integer location)\n",
    "row1=df1.iloc[3]\n",
    "print(row1)"
   ]
  },
  {
   "cell_type": "code",
   "execution_count": 18,
   "metadata": {},
   "outputs": [
    {
     "name": "stdout",
     "output_type": "stream",
     "text": [
      "R1    45\n",
      "R2    67\n",
      "R3    34\n",
      "R4    32\n",
      "R5    44\n",
      "R6    33\n",
      "Name: Age, dtype: int64\n"
     ]
    }
   ],
   "source": [
    "# Select a column by position(integer location)\n",
    "col1=df1.iloc[:,1]\n",
    "print(col1)"
   ]
  },
  {
   "cell_type": "code",
   "execution_count": 19,
   "metadata": {},
   "outputs": [
    {
     "name": "stdout",
     "output_type": "stream",
     "text": [
      "       Name  Age\n",
      "R1  blakely   45\n",
      "R2     john   67\n",
      "R3    haley   34\n",
      "R4   carrie   32\n",
      "R5     alex   44\n",
      "R6    manny   33\n"
     ]
    }
   ],
   "source": [
    "# Select multiple columns\n",
    "col2=df1.iloc[:,0:2]\n",
    "print(col2)\n"
   ]
  }
 ],
 "metadata": {
  "kernelspec": {
   "display_name": "Python 3 (ipykernel)",
   "language": "python",
   "name": "python3"
  },
  "language_info": {
   "codemirror_mode": {
    "name": "ipython",
    "version": 3
   },
   "file_extension": ".py",
   "mimetype": "text/x-python",
   "name": "python",
   "nbconvert_exporter": "python",
   "pygments_lexer": "ipython3",
   "version": "3.11.4"
  }
 },
 "nbformat": 4,
 "nbformat_minor": 4
}
